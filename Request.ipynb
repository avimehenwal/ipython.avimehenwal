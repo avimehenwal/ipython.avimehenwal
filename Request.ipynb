{
 "cells": [
  {
   "cell_type": "code",
   "execution_count": 29,
   "metadata": {
    "collapsed": false
   },
   "outputs": [
    {
     "name": "stdout",
     "output_type": "stream",
     "text": [
      "{\"a2r\": 1, \"time\": 1485768282.429288, \"ip\": \"207.242.49.4\", \"sid\": \"10.184.166.184.54.167.139.229.8b54500.1485562874.88\", \"request\": {\"url\": \"http://staging.reflektion.com/apis/1/78945296/preview\", \"results_filter\": null, \"rid\": 0, \"suggestions_filter\": null, \"keyphrase\": null}, \"ts\": 1485768282440}\n"
     ]
    }
   ],
   "source": [
    "import requests\n",
    "\n",
    "url = \"http://staging.reflektion.com/apis/1/78945296/preview\"\n",
    "\n",
    "#payload = \"key=x&encode=0&data=%7B%20%09%22facet_list%22%3A%20%5B%5D%2C%20%09%22encode%22%3A%200%2C%20%09%22env%22%3A%20%22draft%22%2C%20%09%22search_control%22%3A%20%7B%20%09%09%22context_boost%22%3A%20%7B%7D%2C%20%09%09%22_keyId%22%3A%20%221%22%2C%20%09%09%22synonyms%22%3A%20%5B%5D%2C%20%09%09%22one_way_synonyms%22%3A%20%5B%20%09%09%09%22automated%3D%3Eaviator%22%20%09%09%5D%2C%20%09%09%22site_redirect%22%3A%20%7B%7D%2C%20%09%09%22category_boost%22%3A%20%7B%7D%2C%20%09%09%22search_page%22%3A%20%7B%7D%2C%20%09%09%22_lastUpdate%22%3A%20%222017-01-11T07%3A11%3A10.72530025Z%22%2C%20%09%09%22blacklist_skus_based_on_device%22%3A%20%7B%7D%2C%20%09%09%22product_boost%22%3A%20%7B%7D%2C%20%09%09%22overwrite%22%3A%201%2C%20%09%09%22_user%22%3A%20%2226%22%2C%20%09%09%22facet_display_order%22%3A%20%5B%20%09%09%09%22genders%22%2C%20%09%09%09%22size%22%2C%20%09%09%09%22price%22%2C%20%09%09%09%22color%22%20%09%09%5D%2C%20%09%09%22updated_at_str%22%3A%20%222017-01-11--07-11-10%22%2C%20%09%09%22_domain%22%3A%20%22175400119%22%2C%20%09%09%22_userId%22%3A%20%2226%22%2C%20%09%09%22prioritize_suggestions%22%3A%20%7B%7D%2C%20%09%09%22_key%22%3A%20%22search_control%22%2C%20%09%09%22location_trigger%22%3A%20%7B%7D%2C%20%09%09%22updated_at%22%3A%201484118670.7253003%20%09%7D%2C%20%09%22search_keyphrase%22%3A%20%22automated%22%2C%20%09%22preview%22%3A%201%2C%20%09%22expInfo%22%3A%20%22-1%22%2C%20%09%22ckey%22%3A%20%2211214-175400119%22%2C%20%09%22key%22%3A%20%22x%22%2C%20%09%22suggestion_list%22%3A%20%5B%20%09%09%22keyphrase%22%2C%20%09%09%22category%22%2C%20%09%09%22trending_category%22%2C%20%09%09%22stores%22%20%09%5D%20%7D\"\n",
    "headers = {\n",
    "    'content-type': \"application/x-www-form-urlencoded\"\n",
    "    }\n",
    "\n",
    "payload = { \"key\": [\"x\"], \"encode\": [0], \"data\" : [{\"facet_list\": [], \"env\": \"draft\", \"search_control\": { \"context_boost\": {}, \"_keyId\": \"1\",\n",
    "    \"synonyms\": [], \t\t\"one_way_synonyms\": [ \t\t\t\"automated=>aviator\" \t\t], \t\t\"site_redirect\": {}, \t\t\"category_boost\": {}, \n",
    "    \"search_page\": {}, \t\t\"_lastUpdate\": \"2017-01-11T07:11:10.72530025Z\", \t\t\"blacklist_skus_based_on_device\": {}, \t\t\"product_boost\": {}, \n",
    "    \"overwrite\": 1, \t\t\"_user\": \"26\", \t\t\"facet_display_order\": [ \t\t\t\"genders\", \t\t\t\"size\", \t\t\t\"price\", \t\t\t\"color\"],\n",
    "    \"updated_at_str\": \"2017-01-11--07-11-10\", \t\t\"_domain\": \"175400119\", \t\t\"_userId\": \"26\", \t\t\"prioritize_suggestions\": {},\n",
    "\"_key\": \"search_control\", \t\t\"location_trigger\": {}, \t\t\"updated_at\": 1484118670.7253003 \t}, \t\"search_keyphrase\": \"automated\", \t\"preview\": 1,\n",
    "        \"expInfo\": \"-1\", \t\"ckey\": \"11214-175400119\", \t\"suggestion_list\": [ \t\t\"keyphrase\", \t\t\"category\",\n",
    "                                                    \"trending_category\", \t\t\"stores\" \t] }]}\n",
    "\n",
    "response = requests.request(\"POST\", url, data=payload, headers=headers)\n",
    "\n",
    "print(response.text)"
   ]
  },
  {
   "cell_type": "code",
   "execution_count": 17,
   "metadata": {
    "collapsed": false
   },
   "outputs": [
    {
     "name": "stdout",
     "output_type": "stream",
     "text": [
      "{\"status\": 2, \"a2r\": 1, \"num_results\": 1, \"sid\": \"10.184.166.184.54.167.139.229.8b47b20.1485562849.46\", \"ip\": \"207.242.49.4\", \"total_query_results\": 1, \"suggestions\": {\"banners\": [], \"trending_category\": [{\"url\": \"/category/accessories/eyewear.html\", \"text\": \"eyewear\", \"freq\": 1}]}, \"filters\": {}, \"original_results\": false, \"data\": {\"facets\": {\"category\": {\"hide\": 1}, \"trending_category\": {\"hide\": 1}}}, \"categories\": [], \"extra_info\": {\"cookie_info\": {}}, \"autocomplete\": \"\", \"facets\": {\"category\": {\"vs\": [{\"text\": \"eyewear\", \"freq\": 1}]}, \"_keys\": [\"category\", \"trending_category\"], \"trending_category\": {\"vs\": [{\"text\": \"eyewear\", \"freq\": 1}]}}, \"request\": {\"url\": \"http://staging.reflektion.com/apis/1/78945296/preview\", \"results_filter\": null, \"rid\": 0, \"suggestions_filter\": null, \"keyphrase\": \"automated\"}, \"ts\": 1485766212363, \"personalized_products\": [], \"products\": [{\"sku\": \"ace000\", \"name\": \"Aviator Sunglasses\", \"url\": \"/index.php/aviator-sunglasses.html\", \"media\": {}, \"price\": \"295.00\", \"category_names\": [\"Eyewear\"], \"variations\": [{\"child_image_url\": \"http://demo1.reflektion.com//media/catalog/product/a/c/ace000a_1.jpg\", \"child_swatch_color\": \"http://demo1.reflektion.com/media/catalog/swatches/1/15x15/media/silver.png\", \"child_color\": \"Silver\", \"child_color_hex\": \"#C0C0C0\"}], \"more_products_url\": \"\", \"image_url\": \"http://demo1.reflektion.com//media/catalog/product/a/c/ace000a_1.jpg\", \"final_price\": \"147.50\", \"children_category_ids\": [\"24\"], \"id\": 132, \"categories\": [], \"brand\": \"\"}], \"time\": 1485766212.081203, \"results_for\": {\"keyphrase\": {\"text\": \"automated\"}}, \"orig_keyphrase\": \"automated\", \"narrow_by\": {}, \"keyphrase\": \"automated\"}\n"
     ]
    }
   ],
   "source": [
    "import requests\n",
    "\n",
    "url = \"http://staging.reflektion.com/apis/1/78945296/preview\"\n",
    "\n",
    "payload = \"key=x&encode=0&data=%7B%20%09%22facet_list%22%3A%20%5B%5D%2C%20%09%22encode%22%3A%200%2C%20%09%22env%22%3A%20%22draft%22%2C%20%09%22search_control%22%3A%20%7B%20%09%09%22context_boost%22%3A%20%7B%7D%2C%20%09%09%22_keyId%22%3A%20%221%22%2C%20%09%09%22synonyms%22%3A%20%5B%5D%2C%20%09%09%22one_way_synonyms%22%3A%20%5B%20%09%09%09%22automated%3D%3Eaviator%22%20%09%09%5D%2C%20%09%09%22site_redirect%22%3A%20%7B%7D%2C%20%09%09%22category_boost%22%3A%20%7B%7D%2C%20%09%09%22search_page%22%3A%20%7B%7D%2C%20%09%09%22_lastUpdate%22%3A%20%222017-01-11T07%3A11%3A10.72530025Z%22%2C%20%09%09%22blacklist_skus_based_on_device%22%3A%20%7B%7D%2C%20%09%09%22product_boost%22%3A%20%7B%7D%2C%20%09%09%22overwrite%22%3A%201%2C%20%09%09%22_user%22%3A%20%2226%22%2C%20%09%09%22facet_display_order%22%3A%20%5B%20%09%09%09%22genders%22%2C%20%09%09%09%22size%22%2C%20%09%09%09%22price%22%2C%20%09%09%09%22color%22%20%09%09%5D%2C%20%09%09%22updated_at_str%22%3A%20%222017-01-11--07-11-10%22%2C%20%09%09%22_domain%22%3A%20%22175400119%22%2C%20%09%09%22_userId%22%3A%20%2226%22%2C%20%09%09%22prioritize_suggestions%22%3A%20%7B%7D%2C%20%09%09%22_key%22%3A%20%22search_control%22%2C%20%09%09%22location_trigger%22%3A%20%7B%7D%2C%20%09%09%22updated_at%22%3A%201484118670.7253003%20%09%7D%2C%20%09%22search_keyphrase%22%3A%20%22automated%22%2C%20%09%22preview%22%3A%201%2C%20%09%22expInfo%22%3A%20%22-1%22%2C%20%09%22ckey%22%3A%20%2211214-175400119%22%2C%20%09%22key%22%3A%20%22x%22%2C%20%09%22suggestion_list%22%3A%20%5B%20%09%09%22keyphrase%22%2C%20%09%09%22category%22%2C%20%09%09%22trending_category%22%2C%20%09%09%22stores%22%20%09%5D%20%7D\"\n",
    "headers = {\n",
    "    'content-type': \"application/x-www-form-urlencoded\"\n",
    "    }\n",
    "\n",
    "response = requests.request(\"POST\", url, data=payload, headers=headers)\n",
    "\n",
    "print(response.text)"
   ]
  },
  {
   "cell_type": "code",
   "execution_count": 35,
   "metadata": {
    "collapsed": false
   },
   "outputs": [
    {
     "name": "stdout",
     "output_type": "stream",
     "text": [
      "b'{\"key\": \"x\", \"data\": \"{\\\\\"env\\\\\": \\\\\"draft\\\\\", \\\\\"search_keyphrase\\\\\": \\\\\"automated\\\\\", \\\\\"expInfo\\\\\": \\\\\"-1\\\\\", \\\\\"ckey\\\\\": \\\\\"11214-175400119\\\\\", \\\\\"facet_list\\\\\": [], \\\\\"preview\\\\\": 1, \\\\\"search_control\\\\\": {\\\\\"synonyms\\\\\": [], \\\\\"_user\\\\\": \\\\\"26\\\\\", \\\\\"one_way_synonyms\\\\\": [\\\\\"automated=>aviator\\\\\"], \\\\\"_userId\\\\\": \\\\\"26\\\\\", \\\\\"prioritize_suggestions\\\\\": {}, \\\\\"search_page\\\\\": {}, \\\\\"_lastUpdate\\\\\": \\\\\"2017-01-11T07:11:10.72530025Z\\\\\", \\\\\"blacklist_skus_based_on_device\\\\\": {}, \\\\\"site_redirect\\\\\": {}, \\\\\"updated_at\\\\\": 1484118670.7253003, \\\\\"_keyId\\\\\": \\\\\"1\\\\\", \\\\\"category_boost\\\\\": {}, \\\\\"location_trigger\\\\\": {}, \\\\\"_domain\\\\\": \\\\\"175400119\\\\\", \\\\\"facet_display_order\\\\\": [\\\\\"genders\\\\\", \\\\\"size\\\\\", \\\\\"price\\\\\", \\\\\"color\\\\\"], \\\\\"updated_at_str\\\\\": \\\\\"2017-01-11--07-11-10\\\\\", \\\\\"_key\\\\\": \\\\\"search_control\\\\\", \\\\\"overwrite\\\\\": 1, \\\\\"context_boost\\\\\": {}, \\\\\"product_boost\\\\\": {}}, \\\\\"suggestion_list\\\\\": [\\\\\"keyphrase\\\\\", \\\\\"category\\\\\", \\\\\"trending_category\\\\\", \\\\\"stores\\\\\"]}\", \"encode\": 0}'\n",
      "b'key=x&data=%7B%22env%22%3A+%22draft%22%2C+%22search_keyphrase%22%3A+%22automated%22%2C+%22expInfo%22%3A+%22-1%22%2C+%22ckey%22%3A+%2211214-175400119%22%2C+%22facet_list%22%3A+%5B%5D%2C+%22preview%22%3A+1%2C+%22search_control%22%3A+%7B%22synonyms%22%3A+%5B%5D%2C+%22_user%22%3A+%2226%22%2C+%22one_way_synonyms%22%3A+%5B%22automated%3D%3Eaviator%22%5D%2C+%22_userId%22%3A+%2226%22%2C+%22prioritize_suggestions%22%3A+%7B%7D%2C+%22search_page%22%3A+%7B%7D%2C+%22_lastUpdate%22%3A+%222017-01-11T07%3A11%3A10.72530025Z%22%2C+%22blacklist_skus_based_on_device%22%3A+%7B%7D%2C+%22site_redirect%22%3A+%7B%7D%2C+%22updated_at%22%3A+1484118670.7253003%2C+%22_keyId%22%3A+%221%22%2C+%22category_boost%22%3A+%7B%7D%2C+%22location_trigger%22%3A+%7B%7D%2C+%22_domain%22%3A+%22175400119%22%2C+%22facet_display_order%22%3A+%5B%22genders%22%2C+%22size%22%2C+%22price%22%2C+%22color%22%5D%2C+%22updated_at_str%22%3A+%222017-01-11--07-11-10%22%2C+%22_key%22%3A+%22search_control%22%2C+%22overwrite%22%3A+1%2C+%22context_boost%22%3A+%7B%7D%2C+%22product_boost%22%3A+%7B%7D%7D%2C+%22suggestion_list%22%3A+%5B%22keyphrase%22%2C+%22category%22%2C+%22trending_category%22%2C+%22stores%22%5D%7D&encode=0'\n",
      "{\"status\": 2, \"a2r\": 1, \"num_results\": 1, \"sid\": \"10.184.166.184.54.167.139.229.8b55340.1485562266.28\", \"ip\": \"207.242.49.4\", \"total_query_results\": 1, \"suggestions\": {\"banners\": [], \"trending_category\": [{\"url\": \"/category/accessories/eyewear.html\", \"text\": \"eyewear\", \"freq\": 1}]}, \"filters\": {}, \"original_results\": false, \"data\": {\"facets\": {\"category\": {\"hide\": 1}, \"trending_category\": {\"hide\": 1}}}, \"categories\": [], \"extra_info\": {\"cookie_info\": {}}, \"autocomplete\": \"\", \"facets\": {\"category\": {\"vs\": [{\"text\": \"eyewear\", \"freq\": 1}]}, \"_keys\": [\"category\", \"trending_category\"], \"trending_category\": {\"vs\": [{\"text\": \"eyewear\", \"freq\": 1}]}}, \"request\": {\"url\": \"http://staging.reflektion.com/apis/1/78945296/preview\", \"results_filter\": null, \"rid\": 0, \"suggestions_filter\": null, \"keyphrase\": \"automated\"}, \"ts\": 1485769726265, \"personalized_products\": [], \"products\": [{\"sku\": \"ace000\", \"name\": \"Aviator Sunglasses\", \"url\": \"/index.php/aviator-sunglasses.html\", \"media\": {}, \"price\": \"295.00\", \"category_names\": [\"Eyewear\"], \"variations\": [{\"child_image_url\": \"http://demo1.reflektion.com//media/catalog/product/a/c/ace000a_1.jpg\", \"child_swatch_color\": \"http://demo1.reflektion.com/media/catalog/swatches/1/15x15/media/silver.png\", \"child_color\": \"Silver\", \"child_color_hex\": \"#C0C0C0\"}], \"more_products_url\": \"\", \"image_url\": \"http://demo1.reflektion.com//media/catalog/product/a/c/ace000a_1.jpg\", \"final_price\": \"147.50\", \"children_category_ids\": [\"24\"], \"id\": 132, \"categories\": [], \"brand\": \"\"}], \"time\": 1485769725.829827, \"results_for\": {\"keyphrase\": {\"text\": \"automated\"}}, \"orig_keyphrase\": \"automated\", \"narrow_by\": {}, \"keyphrase\": \"automated\"}\n"
     ]
    }
   ],
   "source": [
    "import json\n",
    "import requests\n",
    "\n",
    "url = \"http://staging.reflektion.com/apis/1/78945296/preview\"\n",
    "\n",
    "headers = {\n",
    "    'content-type': \"application/x-www-form-urlencoded\"\n",
    "    }\n",
    "\n",
    "data = { \"facet_list\": [], \"env\": \"draft\", \"search_control\": { \"context_boost\": {}, \"_keyId\": \"1\",\n",
    "    \"synonyms\": [], \t\t\"one_way_synonyms\": [ \t\t\t\"automated=>aviator\" \t\t], \t\t\"site_redirect\": {}, \t\t\"category_boost\": {}, \n",
    "    \"search_page\": {}, \t\t\"_lastUpdate\": \"2017-01-11T07:11:10.72530025Z\", \t\t\"blacklist_skus_based_on_device\": {}, \t\t\"product_boost\": {}, \n",
    "    \"overwrite\": 1, \t\t\"_user\": \"26\", \t\t\"facet_display_order\": [ \t\t\t\"genders\", \t\t\t\"size\", \t\t\t\"price\", \t\t\t\"color\"],\n",
    "    \"updated_at_str\": \"2017-01-11--07-11-10\", \t\t\"_domain\": \"175400119\", \t\t\"_userId\": \"26\", \t\t\"prioritize_suggestions\": {},\n",
    "\"_key\": \"search_control\", \t\t\"location_trigger\": {}, \t\t\"updated_at\": 1484118670.7253003 \t}, \t\"search_keyphrase\": \"automated\", \t\"preview\": 1,\n",
    "        \"expInfo\": \"-1\", \t\"ckey\": \"11214-175400119\", \t\"suggestion_list\": [ \t\t\"keyphrase\", \t\t\"category\",\n",
    "                                                    \"trending_category\", \t\t\"stores\" \t] }\n",
    "\n",
    "payload = { \"encode\": 0, \"key\": \"x\", \"data\" : json.dumps(data) }\n",
    "\n",
    "t_payload = json.dumps(payload).encode('utf8')\n",
    "print(t_payload)\n",
    "import urllib.parse\n",
    "data = urllib.parse.urlencode(payload)\n",
    "data = data.encode('ascii')\n",
    "print(data)\n",
    "\n",
    "response = requests.request(\"POST\", url, data=data, headers=headers)\n",
    "\n",
    "print(response.text)\n",
    "j_data = json.dumps(payload)"
   ]
  },
  {
   "cell_type": "code",
   "execution_count": 22,
   "metadata": {
    "collapsed": false
   },
   "outputs": [
    {
     "name": "stdout",
     "output_type": "stream",
     "text": [
      "b'env=draft&search_keyphrase=automated&expInfo=-1&search_control=%7B%27synonyms%27%3A+%5B%5D%2C+%27_user%27%3A+%2726%27%2C+%27one_way_synonyms%27%3A+%5B%27automated%3D%3Eaviator%27%5D%2C+%27_userId%27%3A+%2726%27%2C+%27prioritize_suggestions%27%3A+%7B%7D%2C+%27search_page%27%3A+%7B%7D%2C+%27_lastUpdate%27%3A+%272017-01-11T07%3A11%3A10.72530025Z%27%2C+%27blacklist_skus_based_on_device%27%3A+%7B%7D%2C+%27site_redirect%27%3A+%7B%7D%2C+%27updated_at%27%3A+1484118670.7253003%2C+%27_keyId%27%3A+%271%27%2C+%27category_boost%27%3A+%7B%7D%2C+%27location_trigger%27%3A+%7B%7D%2C+%27_domain%27%3A+%27175400119%27%2C+%27facet_display_order%27%3A+%5B%27genders%27%2C+%27size%27%2C+%27price%27%2C+%27color%27%5D%2C+%27updated_at_str%27%3A+%272017-01-11--07-11-10%27%2C+%27_key%27%3A+%27search_control%27%2C+%27overwrite%27%3A+1%2C+%27context_boost%27%3A+%7B%7D%2C+%27product_boost%27%3A+%7B%7D%7D&key=x&ckey=11214-175400119&facet_list=%5B%5D&preview=1&encode=0&suggestion_list=%5B%27keyphrase%27%2C+%27category%27%2C+%27trending_category%27%2C+%27stores%27%5D'\n"
     ]
    },
    {
     "ename": "ValueError",
     "evalue": "Content-Length should be specified for iterable data of type <class 'dict'> {'env': 'draft', 'search_keyphrase': 'automated', 'expInfo': '-1', 'search_control': {'synonyms': [], '_user': '26', 'one_way_synonyms': ['automated=>aviator'], '_userId': '26', 'prioritize_suggestions': {}, 'search_page': {}, '_lastUpdate': '2017-01-11T07:11:10.72530025Z', 'blacklist_skus_based_on_device': {}, 'site_redirect': {}, 'updated_at': 1484118670.7253003, '_keyId': '1', 'category_boost': {}, 'location_trigger': {}, '_domain': '175400119', 'facet_display_order': ['genders', 'size', 'price', 'color'], 'updated_at_str': '2017-01-11--07-11-10', '_key': 'search_control', 'overwrite': 1, 'context_boost': {}, 'product_boost': {}}, 'key': 'x', 'ckey': '11214-175400119', 'facet_list': [], 'preview': 1, 'encode': 0, 'suggestion_list': ['keyphrase', 'category', 'trending_category', 'stores']}",
     "output_type": "error",
     "traceback": [
      "\u001b[0;31m---------------------------------------------------------------------------\u001b[0m",
      "\u001b[0;31mTypeError\u001b[0m                                 Traceback (most recent call last)",
      "\u001b[0;32m/Users/avimehenwal/anaconda3/lib/python3.5/urllib/request.py\u001b[0m in \u001b[0;36mdo_request_\u001b[0;34m(self, request)\u001b[0m\n\u001b[1;32m   1176\u001b[0m                 \u001b[0;32mtry\u001b[0m\u001b[0;34m:\u001b[0m\u001b[0;34m\u001b[0m\u001b[0m\n\u001b[0;32m-> 1177\u001b[0;31m                     \u001b[0mmv\u001b[0m \u001b[0;34m=\u001b[0m \u001b[0mmemoryview\u001b[0m\u001b[0;34m(\u001b[0m\u001b[0mdata\u001b[0m\u001b[0;34m)\u001b[0m\u001b[0;34m\u001b[0m\u001b[0m\n\u001b[0m\u001b[1;32m   1178\u001b[0m                 \u001b[0;32mexcept\u001b[0m \u001b[0mTypeError\u001b[0m\u001b[0;34m:\u001b[0m\u001b[0;34m\u001b[0m\u001b[0m\n",
      "\u001b[0;31mTypeError\u001b[0m: memoryview: a bytes-like object is required, not 'dict'",
      "\nDuring handling of the above exception, another exception occurred:\n",
      "\u001b[0;31mValueError\u001b[0m                                Traceback (most recent call last)",
      "\u001b[0;32m<ipython-input-22-71afd63873e6>\u001b[0m in \u001b[0;36m<module>\u001b[0;34m()\u001b[0m\n\u001b[1;32m     21\u001b[0m \u001b[0mprint\u001b[0m\u001b[0;34m(\u001b[0m\u001b[0mdata\u001b[0m\u001b[0;34m)\u001b[0m\u001b[0;34m\u001b[0m\u001b[0m\n\u001b[1;32m     22\u001b[0m \u001b[0mreq\u001b[0m \u001b[0;34m=\u001b[0m \u001b[0murllib\u001b[0m\u001b[0;34m.\u001b[0m\u001b[0mrequest\u001b[0m\u001b[0;34m.\u001b[0m\u001b[0mRequest\u001b[0m\u001b[0;34m(\u001b[0m\u001b[0murl\u001b[0m\u001b[0;34m=\u001b[0m\u001b[0murl\u001b[0m\u001b[0;34m,\u001b[0m \u001b[0mdata\u001b[0m\u001b[0;34m=\u001b[0m\u001b[0mpayload\u001b[0m\u001b[0;34m,\u001b[0m \u001b[0mmethod\u001b[0m\u001b[0;34m=\u001b[0m\u001b[0;34m'POST'\u001b[0m\u001b[0;34m,\u001b[0m \u001b[0mheaders\u001b[0m\u001b[0;34m=\u001b[0m\u001b[0mheaders\u001b[0m\u001b[0;34m)\u001b[0m\u001b[0;34m\u001b[0m\u001b[0m\n\u001b[0;32m---> 23\u001b[0;31m \u001b[0;32mwith\u001b[0m \u001b[0murllib\u001b[0m\u001b[0;34m.\u001b[0m\u001b[0mrequest\u001b[0m\u001b[0;34m.\u001b[0m\u001b[0murlopen\u001b[0m\u001b[0;34m(\u001b[0m\u001b[0mreq\u001b[0m\u001b[0;34m)\u001b[0m \u001b[0;32mas\u001b[0m \u001b[0mf\u001b[0m\u001b[0;34m:\u001b[0m\u001b[0;34m\u001b[0m\u001b[0m\n\u001b[0m\u001b[1;32m     24\u001b[0m     \u001b[0mprint\u001b[0m\u001b[0;34m(\u001b[0m\u001b[0mf\u001b[0m\u001b[0;34m.\u001b[0m\u001b[0mread\u001b[0m\u001b[0;34m(\u001b[0m\u001b[0;34m)\u001b[0m\u001b[0;34m.\u001b[0m\u001b[0mdecode\u001b[0m\u001b[0;34m(\u001b[0m\u001b[0;34m'utf-8'\u001b[0m\u001b[0;34m)\u001b[0m\u001b[0;34m)\u001b[0m\u001b[0;34m\u001b[0m\u001b[0m\n",
      "\u001b[0;32m/Users/avimehenwal/anaconda3/lib/python3.5/urllib/request.py\u001b[0m in \u001b[0;36murlopen\u001b[0;34m(url, data, timeout, cafile, capath, cadefault, context)\u001b[0m\n\u001b[1;32m    160\u001b[0m     \u001b[0;32melse\u001b[0m\u001b[0;34m:\u001b[0m\u001b[0;34m\u001b[0m\u001b[0m\n\u001b[1;32m    161\u001b[0m         \u001b[0mopener\u001b[0m \u001b[0;34m=\u001b[0m \u001b[0m_opener\u001b[0m\u001b[0;34m\u001b[0m\u001b[0m\n\u001b[0;32m--> 162\u001b[0;31m     \u001b[0;32mreturn\u001b[0m \u001b[0mopener\u001b[0m\u001b[0;34m.\u001b[0m\u001b[0mopen\u001b[0m\u001b[0;34m(\u001b[0m\u001b[0murl\u001b[0m\u001b[0;34m,\u001b[0m \u001b[0mdata\u001b[0m\u001b[0;34m,\u001b[0m \u001b[0mtimeout\u001b[0m\u001b[0;34m)\u001b[0m\u001b[0;34m\u001b[0m\u001b[0m\n\u001b[0m\u001b[1;32m    163\u001b[0m \u001b[0;34m\u001b[0m\u001b[0m\n\u001b[1;32m    164\u001b[0m \u001b[0;32mdef\u001b[0m \u001b[0minstall_opener\u001b[0m\u001b[0;34m(\u001b[0m\u001b[0mopener\u001b[0m\u001b[0;34m)\u001b[0m\u001b[0;34m:\u001b[0m\u001b[0;34m\u001b[0m\u001b[0m\n",
      "\u001b[0;32m/Users/avimehenwal/anaconda3/lib/python3.5/urllib/request.py\u001b[0m in \u001b[0;36mopen\u001b[0;34m(self, fullurl, data, timeout)\u001b[0m\n\u001b[1;32m    461\u001b[0m         \u001b[0;32mfor\u001b[0m \u001b[0mprocessor\u001b[0m \u001b[0;32min\u001b[0m \u001b[0mself\u001b[0m\u001b[0;34m.\u001b[0m\u001b[0mprocess_request\u001b[0m\u001b[0;34m.\u001b[0m\u001b[0mget\u001b[0m\u001b[0;34m(\u001b[0m\u001b[0mprotocol\u001b[0m\u001b[0;34m,\u001b[0m \u001b[0;34m[\u001b[0m\u001b[0;34m]\u001b[0m\u001b[0;34m)\u001b[0m\u001b[0;34m:\u001b[0m\u001b[0;34m\u001b[0m\u001b[0m\n\u001b[1;32m    462\u001b[0m             \u001b[0mmeth\u001b[0m \u001b[0;34m=\u001b[0m \u001b[0mgetattr\u001b[0m\u001b[0;34m(\u001b[0m\u001b[0mprocessor\u001b[0m\u001b[0;34m,\u001b[0m \u001b[0mmeth_name\u001b[0m\u001b[0;34m)\u001b[0m\u001b[0;34m\u001b[0m\u001b[0m\n\u001b[0;32m--> 463\u001b[0;31m             \u001b[0mreq\u001b[0m \u001b[0;34m=\u001b[0m \u001b[0mmeth\u001b[0m\u001b[0;34m(\u001b[0m\u001b[0mreq\u001b[0m\u001b[0;34m)\u001b[0m\u001b[0;34m\u001b[0m\u001b[0m\n\u001b[0m\u001b[1;32m    464\u001b[0m \u001b[0;34m\u001b[0m\u001b[0m\n\u001b[1;32m    465\u001b[0m         \u001b[0mresponse\u001b[0m \u001b[0;34m=\u001b[0m \u001b[0mself\u001b[0m\u001b[0;34m.\u001b[0m\u001b[0m_open\u001b[0m\u001b[0;34m(\u001b[0m\u001b[0mreq\u001b[0m\u001b[0;34m,\u001b[0m \u001b[0mdata\u001b[0m\u001b[0;34m)\u001b[0m\u001b[0;34m\u001b[0m\u001b[0m\n",
      "\u001b[0;32m/Users/avimehenwal/anaconda3/lib/python3.5/urllib/request.py\u001b[0m in \u001b[0;36mdo_request_\u001b[0;34m(self, request)\u001b[0m\n\u001b[1;32m   1180\u001b[0m                         raise ValueError(\"Content-Length should be specified \"\n\u001b[1;32m   1181\u001b[0m                                 \"for iterable data of type %r %r\" % (type(data),\n\u001b[0;32m-> 1182\u001b[0;31m                                 data))\n\u001b[0m\u001b[1;32m   1183\u001b[0m                 \u001b[0;32melse\u001b[0m\u001b[0;34m:\u001b[0m\u001b[0;34m\u001b[0m\u001b[0m\n\u001b[1;32m   1184\u001b[0m                     request.add_unredirected_header(\n",
      "\u001b[0;31mValueError\u001b[0m: Content-Length should be specified for iterable data of type <class 'dict'> {'env': 'draft', 'search_keyphrase': 'automated', 'expInfo': '-1', 'search_control': {'synonyms': [], '_user': '26', 'one_way_synonyms': ['automated=>aviator'], '_userId': '26', 'prioritize_suggestions': {}, 'search_page': {}, '_lastUpdate': '2017-01-11T07:11:10.72530025Z', 'blacklist_skus_based_on_device': {}, 'site_redirect': {}, 'updated_at': 1484118670.7253003, '_keyId': '1', 'category_boost': {}, 'location_trigger': {}, '_domain': '175400119', 'facet_display_order': ['genders', 'size', 'price', 'color'], 'updated_at_str': '2017-01-11--07-11-10', '_key': 'search_control', 'overwrite': 1, 'context_boost': {}, 'product_boost': {}}, 'key': 'x', 'ckey': '11214-175400119', 'facet_list': [], 'preview': 1, 'encode': 0, 'suggestion_list': ['keyphrase', 'category', 'trending_category', 'stores']}"
     ]
    }
   ],
   "source": [
    "import urllib.request\n",
    "import urllib.parse\n",
    "\n",
    "url = \"http://staging.reflektion.com/apis/1/78945296/preview\"\n",
    "\n",
    "headers = {\n",
    "    'content-type': \"application/x-www-form-urlencoded\"\n",
    "    }\n",
    "\n",
    "payload = { \"facet_list\": [], \"encode\": 0, \"env\": \"draft\", \"search_control\": { \"context_boost\": {}, \"_keyId\": \"1\",\n",
    "    \"synonyms\": [], \t\t\"one_way_synonyms\": [ \t\t\t\"automated=>aviator\" \t\t], \t\t\"site_redirect\": {}, \t\t\"category_boost\": {}, \n",
    "    \"search_page\": {}, \t\t\"_lastUpdate\": \"2017-01-11T07:11:10.72530025Z\", \t\t\"blacklist_skus_based_on_device\": {}, \t\t\"product_boost\": {}, \n",
    "    \"overwrite\": 1, \t\t\"_user\": \"26\", \t\t\"facet_display_order\": [ \t\t\t\"genders\", \t\t\t\"size\", \t\t\t\"price\", \t\t\t\"color\"],\n",
    "    \"updated_at_str\": \"2017-01-11--07-11-10\", \t\t\"_domain\": \"175400119\", \t\t\"_userId\": \"26\", \t\t\"prioritize_suggestions\": {},\n",
    "\"_key\": \"search_control\", \t\t\"location_trigger\": {}, \t\t\"updated_at\": 1484118670.7253003 \t}, \t\"search_keyphrase\": \"automated\", \t\"preview\": 1,\n",
    "        \"expInfo\": \"-1\", \t\"ckey\": \"11214-175400119\", \t\"key\": \"x\", \t\"suggestion_list\": [ \t\t\"keyphrase\", \t\t\"category\",\n",
    "                                                    \"trending_category\", \t\t\"stores\" \t] }\n",
    "\n",
    "data = urllib.parse.urlencode(payload)\n",
    "data = data.encode('ascii')\n",
    "print(data)\n",
    "req = urllib.request.Request(url=url, data=payload, method='POST', headers=headers)\n",
    "with urllib.request.urlopen(req) as f:\n",
    "    print(f.read().decode('utf-8'))\n"
   ]
  },
  {
   "cell_type": "code",
   "execution_count": 33,
   "metadata": {
    "collapsed": false
   },
   "outputs": [
    {
     "name": "stdout",
     "output_type": "stream",
     "text": [
      "<class 'dict'> {'key': ['x'], 'data': ['{ \\t\"facet_list\": [], \\t\"encode\": 0, \\t\"env\": \"draft\", \\t\"search_control\": { \\t\\t\"context_boost\": {}, \\t\\t\"_keyId\": \"1\", \\t\\t\"synonyms\": [], \\t\\t\"one_way_synonyms\": [ \\t\\t\\t\"automated=>aviator\" \\t\\t], \\t\\t\"site_redirect\": {}, \\t\\t\"category_boost\": {}, \\t\\t\"search_page\": {}, \\t\\t\"_lastUpdate\": \"2017-01-11T07:11:10.72530025Z\", \\t\\t\"blacklist_skus_based_on_device\": {}, \\t\\t\"product_boost\": {}, \\t\\t\"overwrite\": 1, \\t\\t\"_user\": \"26\", \\t\\t\"facet_display_order\": [ \\t\\t\\t\"genders\", \\t\\t\\t\"size\", \\t\\t\\t\"price\", \\t\\t\\t\"color\" \\t\\t], \\t\\t\"updated_at_str\": \"2017-01-11--07-11-10\", \\t\\t\"_domain\": \"175400119\", \\t\\t\"_userId\": \"26\", \\t\\t\"prioritize_suggestions\": {}, \\t\\t\"_key\": \"search_control\", \\t\\t\"location_trigger\": {}, \\t\\t\"updated_at\": 1484118670.7253003 \\t}, \\t\"search_keyphrase\": \"automated\", \\t\"preview\": 1, \\t\"expInfo\": \"-1\", \\t\"ckey\": \"11214-175400119\", \\t\"key\": \"x\", \\t\"suggestion_list\": [ \\t\\t\"keyphrase\", \\t\\t\"category\", \\t\\t\"trending_category\", \\t\\t\"stores\" \\t] }'], 'encode': ['0']}\n",
      "\n",
      "\n",
      "{\"status\": 2, \"a2r\": 1, \"num_results\": 1, \"sid\": \"10.184.166.184.54.167.139.229.8b47b20.1485562849.46\", \"ip\": \"207.242.49.4\", \"total_query_results\": 1, \"suggestions\": {\"banners\": [], \"trending_category\": [{\"url\": \"/category/accessories/eyewear.html\", \"text\": \"eyewear\", \"freq\": 1}]}, \"filters\": {}, \"original_results\": false, \"data\": {\"facets\": {\"category\": {\"hide\": 1}, \"trending_category\": {\"hide\": 1}}}, \"categories\": [], \"extra_info\": {\"cookie_info\": {}}, \"autocomplete\": \"\", \"facets\": {\"category\": {\"vs\": [{\"text\": \"eyewear\", \"freq\": 1}]}, \"_keys\": [\"category\", \"trending_category\"], \"trending_category\": {\"vs\": [{\"text\": \"eyewear\", \"freq\": 1}]}}, \"request\": {\"url\": \"http://staging.reflektion.com/apis/1/78945296/preview\", \"results_filter\": null, \"rid\": 0, \"suggestions_filter\": null, \"keyphrase\": \"automated\"}, \"ts\": 1485769269394, \"personalized_products\": [], \"products\": [{\"sku\": \"ace000\", \"name\": \"Aviator Sunglasses\", \"url\": \"/index.php/aviator-sunglasses.html\", \"media\": {}, \"price\": \"295.00\", \"category_names\": [\"Eyewear\"], \"variations\": [{\"child_image_url\": \"http://demo1.reflektion.com//media/catalog/product/a/c/ace000a_1.jpg\", \"child_swatch_color\": \"http://demo1.reflektion.com/media/catalog/swatches/1/15x15/media/silver.png\", \"child_color\": \"Silver\", \"child_color_hex\": \"#C0C0C0\"}], \"more_products_url\": \"\", \"image_url\": \"http://demo1.reflektion.com//media/catalog/product/a/c/ace000a_1.jpg\", \"final_price\": \"147.50\", \"children_category_ids\": [\"24\"], \"id\": 132, \"categories\": [], \"brand\": \"\"}], \"time\": 1485769268.940327, \"results_for\": {\"keyphrase\": {\"text\": \"automated\"}}, \"orig_keyphrase\": \"automated\", \"narrow_by\": {}, \"keyphrase\": \"automated\"}\n"
     ]
    }
   ],
   "source": [
    "import urllib.parse\n",
    "import requests\n",
    "\n",
    "payload = \"key=x&encode=0&data=%7B%20%09%22facet_list%22%3A%20%5B%5D%2C%20%09%22encode%22%3A%200%2C%20%09%22env%22%3A%20%22draft%22%2C%20%09%22search_control%22%3A%20%7B%20%09%09%22context_boost%22%3A%20%7B%7D%2C%20%09%09%22_keyId%22%3A%20%221%22%2C%20%09%09%22synonyms%22%3A%20%5B%5D%2C%20%09%09%22one_way_synonyms%22%3A%20%5B%20%09%09%09%22automated%3D%3Eaviator%22%20%09%09%5D%2C%20%09%09%22site_redirect%22%3A%20%7B%7D%2C%20%09%09%22category_boost%22%3A%20%7B%7D%2C%20%09%09%22search_page%22%3A%20%7B%7D%2C%20%09%09%22_lastUpdate%22%3A%20%222017-01-11T07%3A11%3A10.72530025Z%22%2C%20%09%09%22blacklist_skus_based_on_device%22%3A%20%7B%7D%2C%20%09%09%22product_boost%22%3A%20%7B%7D%2C%20%09%09%22overwrite%22%3A%201%2C%20%09%09%22_user%22%3A%20%2226%22%2C%20%09%09%22facet_display_order%22%3A%20%5B%20%09%09%09%22genders%22%2C%20%09%09%09%22size%22%2C%20%09%09%09%22price%22%2C%20%09%09%09%22color%22%20%09%09%5D%2C%20%09%09%22updated_at_str%22%3A%20%222017-01-11--07-11-10%22%2C%20%09%09%22_domain%22%3A%20%22175400119%22%2C%20%09%09%22_userId%22%3A%20%2226%22%2C%20%09%09%22prioritize_suggestions%22%3A%20%7B%7D%2C%20%09%09%22_key%22%3A%20%22search_control%22%2C%20%09%09%22location_trigger%22%3A%20%7B%7D%2C%20%09%09%22updated_at%22%3A%201484118670.7253003%20%09%7D%2C%20%09%22search_keyphrase%22%3A%20%22automated%22%2C%20%09%22preview%22%3A%201%2C%20%09%22expInfo%22%3A%20%22-1%22%2C%20%09%22ckey%22%3A%20%2211214-175400119%22%2C%20%09%22key%22%3A%20%22x%22%2C%20%09%22suggestion_list%22%3A%20%5B%20%09%09%22keyphrase%22%2C%20%09%09%22category%22%2C%20%09%09%22trending_category%22%2C%20%09%09%22stores%22%20%09%5D%20%7D\"\n",
    "qs = urllib.parse.parse_qs(payload)\n",
    "print(type(qs), qs)\n",
    "print(\"\\n\")\n",
    "\n",
    "url = \"http://staging.reflektion.com/apis/1/78945296/preview\"\n",
    "headers = {\n",
    "    'content-type': \"application/x-www-form-urlencoded\"\n",
    "    }\n",
    "\n",
    "response = requests.request(\"POST\", url, data=qs, headers=headers)\n",
    "\n",
    "print(response.text)\n",
    "\n"
   ]
  }
 ],
 "metadata": {
  "kernelspec": {
   "display_name": "Python 3",
   "language": "python",
   "name": "python3"
  },
  "language_info": {
   "codemirror_mode": {
    "name": "ipython",
    "version": 3
   },
   "file_extension": ".py",
   "mimetype": "text/x-python",
   "name": "python",
   "nbconvert_exporter": "python",
   "pygments_lexer": "ipython3",
   "version": "3.5.1"
  }
 },
 "nbformat": 4,
 "nbformat_minor": 0
}
