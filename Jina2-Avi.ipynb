{
 "cells": [
  {
   "cell_type": "markdown",
   "metadata": {},
   "source": [
    "Static page generation with Jinja2\n",
    "------------------------------------\n",
    "is using Unicode internally which means that you have to pass Unicode objects to the render function or bytestrings that only consist of ASCII characters. Additionally newlines are normalized to one end of line sequence which is per default UNIX style (\\n). If no encoding is specified this defaults to ‘ASCII’ which means that you can’t use any non ASCII identifier.\n",
    "\n",
    "    # -*- coding: utf-8 -*-\n",
    "\n",
    "A Jinja template is simply a text file. Jinja can generate any text-based format (HTML, XML, CSV, LaTeX, etc.). A Jinja template doesn’t need to have a specific extension: .html, .xml, or any other extension is just fine.\n",
    "\n",
    "Create a template environment with the default settings and a loader that looks up the templates in the **templates** folder inside the **yourapplication** python package. "
   ]
  },
  {
   "cell_type": "code",
   "execution_count": 4,
   "metadata": {
    "collapsed": false
   },
   "outputs": [],
   "source": [
    "from jinja2 import Environment, FileSystemLoader"
   ]
  },
  {
   "cell_type": "markdown",
   "metadata": {},
   "source": [
    "Loaders are responsible for loading templates from a resource such as:\n",
    "* `jinja2.FileSystemLoader(searchpath, encoding='utf-8', followlinks=False)`\n",
    "* `jinja2.PackageLoader(package_name, package_path='templates', encoding='utf-8')`\n",
    "* `jinja2.FunctionLoader(load_func)`\n",
    "* `jinja2.ModuleLoader(path)`"
   ]
  },
  {
   "cell_type": "code",
   "execution_count": 5,
   "metadata": {
    "collapsed": false
   },
   "outputs": [],
   "source": [
    "DIR = \"/Users/reflektion/GITHUB/ipython.avimehenwal/templates\"\n",
    "env = Environment(loader=FileSystemLoader(DIR))"
   ]
  },
  {
   "cell_type": "code",
   "execution_count": 6,
   "metadata": {
    "collapsed": false
   },
   "outputs": [],
   "source": [
    "template = env.get_template(\"mytemplate.html\")"
   ]
  },
  {
   "cell_type": "code",
   "execution_count": 7,
   "metadata": {
    "collapsed": false
   },
   "outputs": [
    {
     "name": "stdout",
     "output_type": "stream",
     "text": [
      "<!DOCTYPE html>\n",
      "<html>\n",
      "<head>\n",
      "  <meta charset=\"utf-8\">\n",
      "  <meta name=\"description\" content=\"\">\n",
      "  <title>Page Title</title>\n",
      "</head>\n",
      "<body>\n",
      "\n",
      "    Hello from Jinja2\n",
      "\n",
      "</body>\n",
      "</html>\n",
      "\n"
     ]
    }
   ],
   "source": [
    "print template.render(var1='Hello from Jinja2')"
   ]
  },
  {
   "cell_type": "code",
   "execution_count": null,
   "metadata": {
    "collapsed": true
   },
   "outputs": [],
   "source": []
  }
 ],
 "metadata": {
  "kernelspec": {
   "display_name": "Python 2",
   "language": "python",
   "name": "python2"
  },
  "language_info": {
   "codemirror_mode": {
    "name": "ipython",
    "version": 2
   },
   "file_extension": ".py",
   "mimetype": "text/x-python",
   "name": "python",
   "nbconvert_exporter": "python",
   "pygments_lexer": "ipython2",
   "version": "2.7.10"
  }
 },
 "nbformat": 4,
 "nbformat_minor": 0
}
