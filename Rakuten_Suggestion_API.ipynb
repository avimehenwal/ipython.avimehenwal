{
 "cells": [
  {
   "cell_type": "code",
   "execution_count": 535,
   "metadata": {
    "collapsed": false
   },
   "outputs": [],
   "source": [
    "import requests\n",
    "import urllib\n",
    "import json"
   ]
  },
  {
   "cell_type": "code",
   "execution_count": 536,
   "metadata": {
    "collapsed": true
   },
   "outputs": [],
   "source": [
    "from urllib.parse import urlparse\n",
    "from pprint import pprint as print"
   ]
  },
  {
   "cell_type": "code",
   "execution_count": 537,
   "metadata": {
    "collapsed": false
   },
   "outputs": [],
   "source": [
    "URL = \"http://na.api.suggest.search.global.rakuten.com/suggest?\""
   ]
  },
  {
   "cell_type": "code",
   "execution_count": 538,
   "metadata": {
    "collapsed": true
   },
   "outputs": [],
   "source": [
    "o = urlparse(URL)"
   ]
  },
  {
   "cell_type": "code",
   "execution_count": 539,
   "metadata": {
    "collapsed": false
   },
   "outputs": [
    {
     "name": "stdout",
     "output_type": "stream",
     "text": [
      "ParseResult(scheme='http', netloc='na.api.suggest.search.global.rakuten.com', path='/suggest', params='', query='', fragment='')\n",
      "''\n"
     ]
    }
   ],
   "source": [
    "print(o)\n",
    "print(o.query)"
   ]
  },
  {
   "cell_type": "code",
   "execution_count": 540,
   "metadata": {
    "collapsed": false
   },
   "outputs": [
    {
     "name": "stdout",
     "output_type": "stream",
     "text": [
      "{}\n"
     ]
    }
   ],
   "source": [
    "print(urllib.parse.parse_qs(o.query))"
   ]
  },
  {
   "cell_type": "code",
   "execution_count": 541,
   "metadata": {
    "collapsed": false
   },
   "outputs": [
    {
     "name": "stdout",
     "output_type": "stream",
     "text": [
      "[]\n"
     ]
    }
   ],
   "source": [
    "print(urllib.parse.parse_qsl(o.query))"
   ]
  },
  {
   "cell_type": "code",
   "execution_count": 542,
   "metadata": {
    "collapsed": false
   },
   "outputs": [
    {
     "name": "stdout",
     "output_type": "stream",
     "text": [
      "/Users/avimehenwal/GITHUB/Work/QA/Search/search_resemblance\r\n"
     ]
    }
   ],
   "source": [
    "!pwd"
   ]
  },
  {
   "cell_type": "code",
   "execution_count": 543,
   "metadata": {
    "collapsed": true
   },
   "outputs": [],
   "source": [
    "QS = [('cl', 'usamall'),\n",
    " ('rid', '3862161084'),\n",
    " ('sid', '91'),\n",
    " ('oe', 'utf-8'),\n",
    " ('sl', 'pm_swg'),\n",
    " ('of', 'osgenre'),\n",
    " ('sc', 'undefined'),\n",
    " ('cb', 'jQuery111205202784235322604_1480492859487'),\n",
    "     # Dynamically Inject 'q'\n",
    "     ]"
   ]
  },
  {
   "cell_type": "code",
   "execution_count": 544,
   "metadata": {
    "collapsed": false
   },
   "outputs": [],
   "source": [
    "terms = [\n",
    "\"laptop\",\n",
    "\"asics\",\n",
    "\"lego\",\n",
    "\"tablets\",\n",
    "\"ps4\",\n",
    "\"ipad\",\n",
    "\"drone\",\n",
    "\"shoes\",\n",
    "\"xbox+one+s\",\n",
    "\"nike\",\n",
    "\"zoro\",\n",
    "\"iphone+7\",\n",
    "\"watches\",\n",
    "\"luggage\",\n",
    "\"headphones\",\n",
    "\"iphone+6\",\n",
    "\"xbox+live\",\n",
    "\"xbox+one\",\n",
    "\"massage+chair\",\n",
    "\"bar+stools\",\n",
    "\"iphone\",\n",
    "\"apple+watch\",\n",
    "\"GMR+Fantom+24\",\n",
    "\"seiko\",\n",
    "\"smart+watch\",\n",
    "\"over the knee boots\",\n",
    "\"sound+bar\",\n",
    "\"ssd\",\n",
    "\"macbook+pro\",\n",
    "\"onitsuka+tiger\",\n",
    "\"office+chair\",\n",
    "\"bluetooth+speaker\",\n",
    "\"adidas\",\n",
    "\"iphone+7+case\",\n",
    "\"macbook\",\n",
    "\"bluetooth+headphones\",\n",
    "\"external+hard+drive\",\n",
    "\"chromebook\",\n",
    "\"christmas+tree\",\n",
    "\"iphone+6s\",\n",
    "\"gaming+chair\",\n",
    "\"laptops\",\n",
    "\"ps4+controller\",\n",
    "\"dyson\",\n",
    "\"refurbished\",\n",
    "\"ar15\",\n",
    "\"fitbit\",\n",
    "\"bluetooth+headset\",\n",
    "\"tablet\",\n",
    "]"
   ]
  },
  {
   "cell_type": "code",
   "execution_count": 545,
   "metadata": {
    "collapsed": false
   },
   "outputs": [
    {
     "name": "stdout",
     "output_type": "stream",
     "text": [
      "'DONE'\n"
     ]
    }
   ],
   "source": [
    "with open('rakuten_internal_suggestions_api.txt', 'a') as FD:\n",
    "    for term in terms:\n",
    "        QS.append(('q', term))\n",
    "        request = URL + urllib.parse.urlencode(QS)\n",
    "        #print(request)\n",
    "        response = requests.get(request)\n",
    "        #with urllib.request.urlopen(request) as response:\n",
    "        #    print(response.read())    \n",
    "        QS.pop()\n",
    "\n",
    "        suggestions = json.loads(response.text[42:-1])\n",
    "        #print(type(suggestions))\n",
    "        FD.write('\\n')\n",
    "        FD.write('-'*10)\n",
    "        for index in range(2):\n",
    "            FD.write(json.dumps(suggestions[index]))\n",
    "            FD.write('\\n')\n",
    "        \n",
    "    FD.write('\\nTHE END')\n",
    "print(\"DONE\")\n",
    "        \n",
    "    "
   ]
  }
 ],
 "metadata": {
  "kernelspec": {
   "display_name": "Python 3",
   "language": "python",
   "name": "python3"
  },
  "language_info": {
   "codemirror_mode": {
    "name": "ipython",
    "version": 3
   },
   "file_extension": ".py",
   "mimetype": "text/x-python",
   "name": "python",
   "nbconvert_exporter": "python",
   "pygments_lexer": "ipython3",
   "version": "3.5.1"
  }
 },
 "nbformat": 4,
 "nbformat_minor": 0
}
