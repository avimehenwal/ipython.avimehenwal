{
 "cells": [
  {
   "cell_type": "code",
   "execution_count": 1,
   "metadata": {
    "collapsed": true
   },
   "outputs": [],
   "source": [
    "def dict_generator(indict, pre=None):\n",
    "    \"\"\"\n",
    "    Dictionaries to list conversion\n",
    "    :param indict:It is a nested dictionary that is given as input\n",
    "    :param pre: pre to dictionary\n",
    "    \"\"\"\n",
    "    pre = pre[:] if pre else []\n",
    "    if isinstance(indict, dict):\n",
    "        for key, value in indict.items():\n",
    "            if isinstance(value, dict):\n",
    "                for dict_values in dict_generator(value, [key] + pre):\n",
    "                    yield dict_values\n",
    "            elif isinstance(value, list) or isinstance(value, tuple):\n",
    "                for values in value:\n",
    "                    for dict_values in dict_generator(values, [key] + pre):\n",
    "                        yield dict_values\n",
    "            else:\n",
    "                type_list = [int,float,long,bool]\n",
    "                if type(key) in type_list or type(value) in type_list:\n",
    "                    yield pre + [str(key) + \":\" + str(value)]\n",
    "                else:\n",
    "                    if key != None and value != None :\n",
    "                        yield pre + [\n",
    "                            key.encode('utf-8').strip() + \":\" + value.encode(\n",
    "                                'utf-8').strip()]\n",
    "    else:\n",
    "        yield indict"
   ]
  },
  {
   "cell_type": "code",
   "execution_count": 2,
   "metadata": {
    "collapsed": true
   },
   "outputs": [],
   "source": [
    "sample_dict = {\n",
    "    'a': {\n",
    "        'b': {\n",
    "            'c': 1,\n",
    "            'd': 2\n",
    "        },\n",
    "        'e': {\n",
    "            'f': 3,\n",
    "            'g': 4\n",
    "        }\n",
    "    },\n",
    "    'h': {\n",
    "        'i': 5,\n",
    "        'j': 6\n",
    "    }\n",
    "}"
   ]
  },
  {
   "cell_type": "code",
   "execution_count": 3,
   "metadata": {
    "collapsed": false
   },
   "outputs": [
    {
     "name": "stdout",
     "output_type": "stream",
     "text": [
      "['b', 'a', 'c:1']\n",
      "['b', 'a', 'd:2']\n",
      "['e', 'a', 'g:4']\n",
      "['e', 'a', 'f:3']\n",
      "['h', 'i:5']\n",
      "['h', 'j:6']\n"
     ]
    }
   ],
   "source": [
    "for item in dict_generator(sample_dict):\n",
    "    print item"
   ]
  }
 ],
 "metadata": {
  "kernelspec": {
   "display_name": "Python 2",
   "language": "python",
   "name": "python2"
  },
  "language_info": {
   "codemirror_mode": {
    "name": "ipython",
    "version": 2
   },
   "file_extension": ".py",
   "mimetype": "text/x-python",
   "name": "python",
   "nbconvert_exporter": "python",
   "pygments_lexer": "ipython2",
   "version": "2.7.11"
  }
 },
 "nbformat": 4,
 "nbformat_minor": 0
}
