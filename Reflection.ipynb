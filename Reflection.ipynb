{
 "cells": [
  {
   "cell_type": "markdown",
   "metadata": {},
   "source": [
    "In Java and C#, reflection allows you code to interrogate a class or instance to get the properties at run time.\n",
    "The term they use in Python is \"introspection\""
   ]
  },
  {
   "cell_type": "markdown",
   "metadata": {},
   "source": [
    "A Python script can find out about the type, class, attributes and methods of an object. This is referred to as reflection or introspection. See also Metaclasses.\n",
    "\n",
    "Reflection-enabling functions include type(), isinstance(), callable(), dir() and getattr()."
   ]
  },
  {
   "cell_type": "code",
   "execution_count": 5,
   "metadata": {
    "collapsed": false
   },
   "outputs": [
    {
     "name": "stdout",
     "output_type": "stream",
     "text": [
      "<__main__.Foo object at 0x1035d17f0>\n"
     ]
    }
   ],
   "source": [
    "class Foo:\n",
    "  def doSomething(self):\n",
    "    print(\"My object ID is {0}\".format(id(self)))\n",
    "foo = Foo()  # create an instance\n",
    "print(foo)"
   ]
  },
  {
   "cell_type": "code",
   "execution_count": 6,
   "metadata": {
    "collapsed": false
   },
   "outputs": [
    {
     "name": "stdout",
     "output_type": "stream",
     "text": [
      "<function Foo.doSomething at 0x1035ce1e0> <class 'function'>\n",
      "My object ID is 4351399920\n"
     ]
    }
   ],
   "source": [
    "method = Foo.doSomething\n",
    "print(method, type(method))\n",
    "method(foo)"
   ]
  }
 ],
 "metadata": {
  "kernelspec": {
   "display_name": "Python 3",
   "language": "python",
   "name": "python3"
  },
  "language_info": {
   "codemirror_mode": {
    "name": "ipython",
    "version": 3
   },
   "file_extension": ".py",
   "mimetype": "text/x-python",
   "name": "python",
   "nbconvert_exporter": "python",
   "pygments_lexer": "ipython3",
   "version": "3.5.1"
  }
 },
 "nbformat": 4,
 "nbformat_minor": 0
}
